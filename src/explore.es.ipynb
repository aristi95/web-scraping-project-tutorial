{
    "cells": [
        {
            "cell_type": "markdown",
            "metadata": {},
            "source": [
                "# Explora aquí\n",
                "\n",
                "Se recomienda utilizar este cuaderno con fines de exploración."
            ]
        },
        {
            "cell_type": "code",
            "execution_count": null,
            "metadata": {},
            "outputs": [],
            "source": [
                "import os\n",
                "from bs4 import BeautifulSoup\n",
                "import requests\n",
                "import time\n",
                "import sqlite3\n",
                "import matplotlib.pyplot as plt\n",
                "import seaborn as sns\n",
                "import pandas as pd"
            ]
        },
        {
            "cell_type": "code",
            "execution_count": 32,
            "metadata": {},
            "outputs": [],
            "source": [
                "# Select the resource to download\n",
                "url = \"https://en.wikipedia.org/wiki/List_of_Spotify_streaming_records\""
            ]
        },
        {
            "cell_type": "markdown",
            "metadata": {},
            "source": [
                "WITH BEAUTIFUL SOUP"
            ]
        },
        {
            "cell_type": "code",
            "execution_count": 33,
            "metadata": {},
            "outputs": [
                {
                    "name": "stdout",
                    "output_type": "stream",
                    "text": [
                        "  Rank                 Song                 Artist(s) Streams (billions)  \\\n",
                        "0    1    \"Blinding Lights\"                The Weeknd              4.825   \n",
                        "1    2       \"Shape of You\"                Ed Sheeran              4.346   \n",
                        "2    3  \"Someone You Loved\"             Lewis Capaldi              3.893   \n",
                        "3    4            \"Starboy\"  The Weeknd and Daft Punk              3.877   \n",
                        "4    5          \"As It Was\"              Harry Styles              3.864   \n",
                        "\n",
                        "        Release date Ref.  \n",
                        "0   29 November 2019  [2]  \n",
                        "1     6 January 2017  [3]  \n",
                        "2    8 November 2018  [4]  \n",
                        "3  21 September 2016  [5]  \n",
                        "4       1 April 2022  [6]  \n"
                    ]
                },
                {
                    "name": "stderr",
                    "output_type": "stream",
                    "text": [
                        "/tmp/ipykernel_1991/3240598925.py:8: FutureWarning: Passing literal html to 'read_html' is deprecated and will be removed in a future version. To read from a literal string, wrap it in a 'StringIO' object.\n",
                        "  dfb = pd.read_html(str(table))[0]\n"
                    ]
                }
            ],
            "source": [
                "response = requests.get(url)\n",
                "soup = BeautifulSoup(response.text, 'html.parser')\n",
                "\n",
                "# Find all tables\n",
                "table = soup.find_all('table', {'class': 'wikitable'})[0]  # Gets first wikitable\n",
                "\n",
                "# Convert to DataFrame\n",
                "dfb = pd.read_html(str(table))[0]\n",
                "\n",
                "print(dfb.head())"
            ]
        },
        {
            "cell_type": "markdown",
            "metadata": {},
            "source": [
                "WITH PD.READ_HTML()"
            ]
        },
        {
            "cell_type": "code",
            "execution_count": 37,
            "metadata": {},
            "outputs": [
                {
                    "name": "stdout",
                    "output_type": "stream",
                    "text": [
                        "  Rank                 Song                 Artist(s) Streams (billions)  \\\n",
                        "0    1    \"Blinding Lights\"                The Weeknd              4.825   \n",
                        "1    2       \"Shape of You\"                Ed Sheeran              4.346   \n",
                        "2    3  \"Someone You Loved\"             Lewis Capaldi              3.893   \n",
                        "3    4            \"Starboy\"  The Weeknd and Daft Punk              3.877   \n",
                        "4    5          \"As It Was\"              Harry Styles              3.864   \n",
                        "\n",
                        "        Release date Ref.  \n",
                        "0   29 November 2019  [2]  \n",
                        "1     6 January 2017  [3]  \n",
                        "2    8 November 2018  [4]  \n",
                        "3  21 September 2016  [5]  \n",
                        "4       1 April 2022  [6]  \n"
                    ]
                }
            ],
            "source": [
                "# Read all tables from the page into a list of DataFrames\n",
                "tables = pd.read_html(url)\n",
                "\n",
                "# Store the first table in a dataframe\n",
                "df = tables[0] \n",
                "print(df.head())"
            ]
        },
        {
            "cell_type": "code",
            "execution_count": 38,
            "metadata": {},
            "outputs": [
                {
                    "data": {
                        "text/html": [
                            "<div>\n",
                            "<style scoped>\n",
                            "    .dataframe tbody tr th:only-of-type {\n",
                            "        vertical-align: middle;\n",
                            "    }\n",
                            "\n",
                            "    .dataframe tbody tr th {\n",
                            "        vertical-align: top;\n",
                            "    }\n",
                            "\n",
                            "    .dataframe thead th {\n",
                            "        text-align: right;\n",
                            "    }\n",
                            "</style>\n",
                            "<table border=\"1\" class=\"dataframe\">\n",
                            "  <thead>\n",
                            "    <tr style=\"text-align: right;\">\n",
                            "      <th></th>\n",
                            "      <th>Rank</th>\n",
                            "      <th>Song</th>\n",
                            "      <th>Artist(s)</th>\n",
                            "      <th>Streams (billions)</th>\n",
                            "      <th>Release date</th>\n",
                            "      <th>Ref.</th>\n",
                            "    </tr>\n",
                            "  </thead>\n",
                            "  <tbody>\n",
                            "    <tr>\n",
                            "      <th>0</th>\n",
                            "      <td>1</td>\n",
                            "      <td>\"Blinding Lights\"</td>\n",
                            "      <td>The Weeknd</td>\n",
                            "      <td>4.825</td>\n",
                            "      <td>29 November 2019</td>\n",
                            "      <td>[2]</td>\n",
                            "    </tr>\n",
                            "    <tr>\n",
                            "      <th>1</th>\n",
                            "      <td>2</td>\n",
                            "      <td>\"Shape of You\"</td>\n",
                            "      <td>Ed Sheeran</td>\n",
                            "      <td>4.346</td>\n",
                            "      <td>6 January 2017</td>\n",
                            "      <td>[3]</td>\n",
                            "    </tr>\n",
                            "    <tr>\n",
                            "      <th>2</th>\n",
                            "      <td>3</td>\n",
                            "      <td>\"Someone You Loved\"</td>\n",
                            "      <td>Lewis Capaldi</td>\n",
                            "      <td>3.893</td>\n",
                            "      <td>8 November 2018</td>\n",
                            "      <td>[4]</td>\n",
                            "    </tr>\n",
                            "    <tr>\n",
                            "      <th>3</th>\n",
                            "      <td>4</td>\n",
                            "      <td>\"Starboy\"</td>\n",
                            "      <td>The Weeknd and Daft Punk</td>\n",
                            "      <td>3.877</td>\n",
                            "      <td>21 September 2016</td>\n",
                            "      <td>[5]</td>\n",
                            "    </tr>\n",
                            "    <tr>\n",
                            "      <th>4</th>\n",
                            "      <td>5</td>\n",
                            "      <td>\"As It Was\"</td>\n",
                            "      <td>Harry Styles</td>\n",
                            "      <td>3.864</td>\n",
                            "      <td>1 April 2022</td>\n",
                            "      <td>[6]</td>\n",
                            "    </tr>\n",
                            "  </tbody>\n",
                            "</table>\n",
                            "</div>"
                        ],
                        "text/plain": [
                            "  Rank                 Song                 Artist(s) Streams (billions)  \\\n",
                            "0    1    \"Blinding Lights\"                The Weeknd              4.825   \n",
                            "1    2       \"Shape of You\"                Ed Sheeran              4.346   \n",
                            "2    3  \"Someone You Loved\"             Lewis Capaldi              3.893   \n",
                            "3    4            \"Starboy\"  The Weeknd and Daft Punk              3.877   \n",
                            "4    5          \"As It Was\"              Harry Styles              3.864   \n",
                            "\n",
                            "        Release date Ref.  \n",
                            "0   29 November 2019  [2]  \n",
                            "1     6 January 2017  [3]  \n",
                            "2    8 November 2018  [4]  \n",
                            "3  21 September 2016  [5]  \n",
                            "4       1 April 2022  [6]  "
                        ]
                    },
                    "execution_count": 38,
                    "metadata": {},
                    "output_type": "execute_result"
                }
            ],
            "source": [
                "df.head()"
            ]
        }
    ],
    "metadata": {
        "kernelspec": {
            "display_name": "Python 3",
            "language": "python",
            "name": "python3"
        },
        "language_info": {
            "codemirror_mode": {
                "name": "ipython",
                "version": 3
            },
            "file_extension": ".py",
            "mimetype": "text/x-python",
            "name": "python",
            "nbconvert_exporter": "python",
            "pygments_lexer": "ipython3",
            "version": "3.11.4"
        },
        "orig_nbformat": 4
    },
    "nbformat": 4,
    "nbformat_minor": 2
}
